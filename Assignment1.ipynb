{
 "cells": [
  {
   "cell_type": "markdown",
   "metadata": {},
   "source": [
    "# <u>Topics in Algebra : Assignment 1</u>\n",
    "\n",
    "## summary\n",
    "\n",
    "1. [Kanade-Roussell Conjecture](#KRconj)<br>\n",
    "    1.1. [Introduction](#KRconjintro)<br>\n",
    "    1.2. [Definition of the partition](#KRconjdefPar)<br>\n",
    "    1.3. [Definition of K sets](#KRconjK)<br>\n",
    "    1.4. [Definition of T sets](#KRconjT)<br>\n",
    "    1.5. [Calculation of Par(n)](#KRconjCalcPar)<br>\n",
    "    1.6. [Visualization of the results](#KRconjRes)<br>\n",
    "2. [Newton Fractal](#NewFrac)<br>\n",
    "    2.1. [Definition](#NewFracDef)<br>\n",
    "    2.2. [First Implementation](#NewFrac1)<br>\n",
    "    2.3. [Another Implementation](#NewFrac2)<br>\n",
    "    2.3.1. [Explanation of the color calculation](#NewFracExp)<br>"
   ]
  },
  {
   "cell_type": "markdown",
   "metadata": {},
   "source": [
    "# <u>Kanade-Roussell conjecture</u><a id='KRconj'></a>"
   ]
  },
  {
   "cell_type": "markdown",
   "metadata": {},
   "source": [
    "#### 1.1 <u>Introduction</u> <a id='KRconjintro'></a>\n",
    "\n",
    "From our course, we saw the Kanade-Roussell conjecture which uses the sets :\n",
    "\n",
    "$$K = \\{\\lambda \\in Par \\mid \\forall i \\in [\\space 1, l(\\lambda)-2 \\space], \\space \\lambda_i - \\lambda_{i+2} \\ge 3 \\wedge \\forall i \\in [\\space 1, l(\\lambda)-1 \\space], \\space \\lambda_i - \\lambda_{i+1} \\le 1 \\Rightarrow \\lambda_i + \\lambda_{i+1} \\in 3ℤ \\}$$\n",
    "$$K^{\\prime} = \\{\\lambda \\in K \\mid m_1(\\lambda) = 0 \\}$$\n",
    "$$K^{\\prime \\prime} = \\{\\lambda \\in K \\mid m_1(\\lambda) = m_2(\\lambda) = 0 \\}$$\n",
    "$$T^{(q)}_{a,b,c,d} = \\{\\lambda \\in Par \\mid \\forall i \\in [\\space 1, l(\\lambda) \\space], \\space \\lambda_i \\equiv a,b,c,d \\space mod \\space q\\}$$\n",
    "\n",
    "the Kanade-Roussell conjecture is as follow: $\\begin{cases} \n",
    "                                            K \\space \\space \\overset{PT}{\\sim} \\space T^{(9)}_{1,3,6,8} \\\\ \n",
    "                                            K^{\\prime} \\space \\overset{PT}{\\sim} \\space T^{(9)}_{2,3,6,7} \\\\ \n",
    "                                            K^{\\prime \\prime} \\overset{PT}{\\sim} \\space T^{(9)}_{4,3,6,5} \n",
    "                                            \\end{cases}$ <br>\n",
    "\n",
    "where $X \\overset{PT}{\\sim} Y \t\\Leftrightarrow |X| = |Y|$"
   ]
  },
  {
   "cell_type": "markdown",
   "metadata": {},
   "source": [
    "#### 1.2 <u>Definition of the partition</u> <a id='KRconjdefPar'></a>\n",
    "\n",
    "first, let us create each ensemble $Par(n)$:"
   ]
  },
  {
   "cell_type": "code",
   "execution_count": 1,
   "metadata": {},
   "outputs": [],
   "source": [
    "def Par_slow(n):\n",
    "    if n == 0:\n",
    "        return []\n",
    "\n",
    "    res = [[n]]\n",
    "    for i in range(n-1,0,-1):\n",
    "        suffixes = Par_slow(n-i) # recursive call\n",
    "        for suff in suffixes:\n",
    "            if suff[0] <= i:\n",
    "                res.append([i] + suff)\n",
    "\n",
    "    return res"
   ]
  },
  {
   "cell_type": "markdown",
   "metadata": {},
   "source": [
    "This way of calculating $Par(n)$ is extremely slow.\n",
    "Let us note $p(n) = |Par(n)| \\sim \\frac{1}{4n\\sqrt{3}}e^{\\pi\\sqrt{\\frac{2n}{3}}}$ (demonstrated by Hardy and Ramanujan) and $F_n = \\frac{1}{\\sqrt{5}}(\\varphi^n - (-\\frac{1}{\\varphi})^n)$ with $\\varphi = \\frac{1 + \\sqrt{5}}{2}$. The temporal complexity is :\n",
    "$\\begin{cases}\n",
    "C(n) = \\sum_{i=1}^{n-1}{C(i)} + p(i) \\\\\n",
    "C(0) = 0\n",
    "\\end{cases} \\Rightarrow C(n) = \\sum_{i=1}^{n-1}{F_{n-i}p(i)} +p(n) \\sim \\Theta(\\varphi^n) \n",
    "$\n",
    "the following program demonstrate it:"
   ]
  },
  {
   "cell_type": "code",
   "execution_count": 10,
   "metadata": {},
   "outputs": [
    {
     "data": {
      "image/png": "[encoded data removed]",
      "text/plain": [
       "<Figure size 1152x648 with 2 Axes>"
      ]
     },
     "metadata": {
      "needs_background": "light"
     },
     "output_type": "display_data"
    }
   ],
   "source": [
    "import matplotlib.pyplot as plt\n",
    "import numpy as np\n",
    "\n",
    "def p(n):\n",
    "    return 1/(4*n*np.sqrt(3))*np.exp(np.pi*np.sqrt(2*n/3))\n",
    "\n",
    "def phi():\n",
    "    return (1+np.sqrt(5))/2\n",
    "\n",
    "def F(n):\n",
    "    return 1/np.sqrt(5) * (np.power(phi(),n) - np.power(-1/phi(),n))\n",
    "\n",
    "def C(n):\n",
    "    C = p(n)\n",
    "    for i in range(1,n):\n",
    "        C += F(n-i)*p(i)\n",
    "        \n",
    "    return C\n",
    "\n",
    "x = []\n",
    "diff1 = []\n",
    "diff5 = []\n",
    "\n",
    "fig, axs = plt.subplots(1,2)\n",
    "fig.set_size_inches(16,9)\n",
    "axs[0].set_title(\"phi^n - C(n) | n <= 1250\")\n",
    "axs[1].set_title(\"5*phi^n - C(n) | n <= 1250\")\n",
    "for i in range(1,1251):\n",
    "    x.append(i)\n",
    "    phi_calc = np.power(phi(), i)\n",
    "    C_i = C(i)\n",
    "    diff1.append(phi_calc - C_i)\n",
    "    diff5.append(phi_calc*5 - C_i)\n",
    "axs[0].plot(x,diff1)\n",
    "axs[1].plot(x,diff5)\n",
    "plt.tight_layout()"
   ]
  },
  {
   "cell_type": "markdown",
   "metadata": {},
   "source": [
    "For that reason, we create $Par(n)$ as follow, increasing the spacial complexity to $O(e^{\\sqrt{n}})$ but reducing the temporal complexity to $O(e^{\\sqrt{n}})$. <br>\n",
    "Following this algorithm, we need to calculate every $Par(i), \\space 1 \\le i \\le n$ to obtain $Par(n)$ but it is not restricting for the problem we are tackling as we must calculate every $Par(n)$."
   ]
  },
  {
   "cell_type": "code",
   "execution_count": 3,
   "metadata": {},
   "outputs": [],
   "source": [
    "Partitions = [] # container for every Par(n) possible\n",
    "\n",
    "def Par(n):\n",
    "    res = [[n]]\n",
    "    if n > 0:\n",
    "        for i in range(n-1,0,-1):\n",
    "            suffixes = Partitions[n-i]\n",
    "            for suff in suffixes:\n",
    "                if suff[0] <= i:\n",
    "                    res.append([i] + suff)\n",
    "                    \n",
    "    Partitions.append(res)"
   ]
  },
  {
   "cell_type": "markdown",
   "metadata": {},
   "source": [
    "#### 1.3 <u>Definition of K sets</u> <a id='KRconjK'></a>\n",
    "\n",
    "Then from $Par(n)$, we can calculate $K, \\space K^{\\prime}, \\space K^{\\prime \\prime}$:"
   ]
  },
  {
   "cell_type": "code",
   "execution_count": 4,
   "metadata": {},
   "outputs": [],
   "source": [
    "def Kanade_Russell(par_n):\n",
    "\n",
    "    K = []\n",
    "\n",
    "    for lam in par_n:\n",
    "        if len(lam) == 1:                       # first, we verify the case (n) separetelly (it is always in K)\n",
    "            K.append(lam)\n",
    "        elif len(lam) == 2:                     # then the case (a,b) are treated separetelly too (only the second condition needs to be verified)\n",
    "            if lam[0] - lam[1] <= 1:\n",
    "                if (lam[0] + lam[1]) % 3 == 0:\n",
    "                    K.append(lam)\n",
    "            else:\n",
    "                K.append(lam)\n",
    "        else:                                   # then the general case for all partition with at least 3 literals\n",
    "            i=0\n",
    "            condition1 = True                   # forall i in [1, l(lambda)-2], lambda_i - lambda_{i+2} >= 3\n",
    "            while condition1 and i < len(lam)-2:\n",
    "                if lam[i] - lam[i+2] < 3:\n",
    "                    condition1 = False\n",
    "                i += 1\n",
    "                    \n",
    "            i=0\n",
    "            condition2 = True                   # forall i in [1, l(lambda)-1], lambda_i - lambda_{i+1} <= 1 =>> lambda_i + lambda_{i+1} in 3Z\n",
    "            while condition1 and i < len(lam)-1:\n",
    "                if lam[i] - lam[i+1] <= 1:      # is lambda_i - lambda_{i+1} <= 1 ?\n",
    "                    if (lam[i] + lam[i+1]) % 3 != 0: # then, is lambda_i + lambda_{i+1} not divisible by 3 ?\n",
    "                        condition2 = False      # the two conditions are verified, thus lambda is not in K\n",
    "                i += 1\n",
    "            \n",
    "            if condition2 and condition1:\n",
    "                K.append(lam)\n",
    "\n",
    "    K_p = [lam for lam in K if 1 not in lam]    # remove from K the entries containing 1 to create K'\n",
    "    K_s = [lam for lam in K_p if 2 not in lam]  # remove from K' the entries containing 2 to create K''\n",
    "\n",
    "    return K, K_p, K_s"
   ]
  },
  {
   "cell_type": "markdown",
   "metadata": {},
   "source": [
    "#### 1.4 <u>definition of T sets</u> <a id='KRconjT'></a>\n",
    "\n",
    "We then define $T^{(q)}_{a,b,c,d}$ as follow. This calculation works for all $T^{(q)}_X$ with $|X| \\in ℕ^*$."
   ]
  },
  {
   "cell_type": "code",
   "execution_count": 5,
   "metadata": {},
   "outputs": [],
   "source": [
    "def T(par_n, accepted, q):\n",
    "    if par_n == [[0]]:\n",
    "        return par_n\n",
    "    \n",
    "    T = []\n",
    "    for lam in par_n:\n",
    "        adding = True # we suppose this lambda will be added to T\n",
    "        i=0\n",
    "\n",
    "        while i < len(lam) and adding: # iterate over the lambda_i\n",
    "            if not (lam[i] % q in accepted): # if lambda_i mod q != a,b,c,d then this lambda is not added to T\n",
    "                adding = False\n",
    "            i += 1\n",
    "\n",
    "        if adding:\n",
    "            T.append(lam)\n",
    "    \n",
    "    return T"
   ]
  },
  {
   "cell_type": "markdown",
   "metadata": {},
   "source": [
    "#### 1.5 <u>Calculation of Par(n)</u> <a id='KRconjCalcPar'></a>\n",
    "\n",
    "The following cells are here to calculate $Par$ up to different values of $n$ (up to $100$)."
   ]
  },
  {
   "cell_type": "code",
   "execution_count": 6,
   "metadata": {},
   "outputs": [],
   "source": [
    "x = []\n",
    "for n in range(25):\n",
    "    x.append(n)\n",
    "    Par(n)"
   ]
  },
  {
   "cell_type": "code",
   "execution_count": 7,
   "metadata": {},
   "outputs": [],
   "source": [
    "for n in range(25, 50):\n",
    "    x.append(n)\n",
    "    Par(n)"
   ]
  },
  {
   "cell_type": "code",
   "execution_count": 8,
   "metadata": {},
   "outputs": [],
   "source": [
    "for n in range(50, 60):\n",
    "    x.append(n)\n",
    "    Par(n)"
   ]
  },
  {
   "cell_type": "code",
   "execution_count": null,
   "metadata": {},
   "outputs": [],
   "source": [
    "for n in range(60,70):\n",
    "    x.append(n)\n",
    "    Par(n)"
   ]
  },
  {
   "cell_type": "code",
   "execution_count": null,
   "metadata": {},
   "outputs": [],
   "source": [
    "for n in range(70, 80):\n",
    "    x.append(n)\n",
    "    Par(n)"
   ]
  },
  {
   "cell_type": "code",
   "execution_count": null,
   "metadata": {},
   "outputs": [],
   "source": [
    "for n in range(80, 90):\n",
    "    x.append(n)\n",
    "    Par(n)"
   ]
  },
  {
   "cell_type": "code",
   "execution_count": null,
   "metadata": {},
   "outputs": [],
   "source": [
    "for n in range(90, 101):\n",
    "    x.append(n)\n",
    "    Par(n)"
   ]
  },
  {
   "cell_type": "markdown",
   "metadata": {},
   "source": [
    "#### 1.6 <u>Visualization of the results</u> <a id='KRconjRes'></a>\n",
    "\n",
    "The following cell of code create graphs that shows that the Kanade-Roussell conjecture is verified for $n$ up to  $100$."
   ]
  },
  {
   "cell_type": "code",
   "execution_count": 9,
   "metadata": {},
   "outputs": [
    {
     "data": {
      "image/png": "[encoded data removed]",
      "text/plain": [
       "<Figure size 1152x648 with 6 Axes>"
      ]
     },
     "metadata": {
      "needs_background": "light"
     },
     "output_type": "display_data"
    }
   ],
   "source": [
    "listK, listK_p, listK_s, listT1, listT2, listT4, distK, distK_p, distK_s = [],[],[],[],[],[],[],[],[]\n",
    "\n",
    "for n in range(len(Partitions)):\n",
    "    K, K_p, K_s = Kanade_Russell(Partitions[n]) # calculate K, K', K'' for each Par(n)\n",
    "    T_1368_mod_9 = T(Partitions[n], [1,3,6,8], 9) # calculate T_{1,3,6,8}^{(9)} for each Par(n)\n",
    "    T_2367_mod_9 = T(Partitions[n], [2,3,6,7], 9) # calculate T_{2,3,6,7}^{(9)} for each Par(n)\n",
    "    T_4365_mod_9 = T(Partitions[n], [4,3,6,5], 9) # calculate T_{4,3,6,5}^{(9)} for each Par(n)\n",
    "\n",
    "    listT1.append(len(T_1368_mod_9)) # add the cardinal of T_{1,3,6,8}^{(9)} to a list for plotting\n",
    "    listT2.append(len(T_2367_mod_9)) # add the cardinal of T_{2,3,6,7}^{(9)} to a list for plotting\n",
    "    listT4.append(len(T_4365_mod_9)) # add the cardinal of T_{4,3,6,5}^{(9)} to a list for plotting\n",
    "    \n",
    "    listK.append(len(K))        # add the cardinal of K to a list for plotting\n",
    "    listK_p.append(len(K_p))    # add the cardinal of K' to a list for plotting\n",
    "    listK_s.append(len(K_s))    # add the cardinal of K'' to a list for plotting\n",
    "\n",
    "    distK.append(len(K) - len(T_1368_mod_9))        # add the difference in cardinals between K and T_{1,3,6,8}^{(9)} to a list for plotting\n",
    "    distK_p.append(len(K_p) - len(T_2367_mod_9))    # add the difference in cardinals between K' and T_{2,3,6,7}^{(9)} to a list for plotting\n",
    "    distK_s.append(len(K_s) - len(T_4365_mod_9))    # add the difference in cardinals between K'' and T_{4,3,6,5}^{(9)} to a list for plotting\n",
    "\n",
    "X = np.array(x) # create a numpy array from a list of naturals for easier calculations for plotting\n",
    "\n",
    "fig, axs = plt.subplots(2,3)\n",
    "fig.set_size_inches(16,9)\n",
    "\n",
    "axs[0,0].bar(X - 0.33/2, listK, 0.33)                       # bar graph for the cardinals of K\n",
    "axs[0,0].bar(X + 0.33/2, listT1, 0.33)                      # bar graph for the cardinals of T_{1,3,6,8}^{(9)}\n",
    "axs[0,0].legend([\"|K|\", \"|T_1368_mod_9|\"])\n",
    "axs[0,0].set_title(\"Evolution of |K| and |T_1368_mod_9|\")\n",
    "\n",
    "axs[0,1].bar(X - 0.33/2, listK_p, 0.33)                     # bar graph for the cardinals of K'\n",
    "axs[0,1].bar(X + 0.33/2, listT2, 0.33)                      # bar graph for the cardinals of T_{2,3,6,7}^{(9)}\n",
    "axs[0,1].legend([\"|K'|\", \"|T_2367_mod_9|\"])\n",
    "axs[0,1].set_title(\"Evolution of |K'| and |T_2367_mod_9|\")\n",
    "\n",
    "axs[0,2].bar(X - 0.33/2, listK_s, 0.33)                     # bar graph for the cardinals of K'' \n",
    "axs[0,2].bar(X + 0.33/2, listT4, 0.33)                      # bar graph for the cardinals of T_{4,3,6,5}^{(9)}\n",
    "axs[0,2].legend([\"|K''|\", \"|T_4365_mod_9|\"])\n",
    "axs[0,2].set_title(\"Evolution of |K''| and |T_4365_mod_9|\")\n",
    "\n",
    "axs[1,0].plot(X, distK)                                     # line graph of the the difference in cardinals between K and T_{1,3,6,8}^{(9)}\n",
    "axs[1,0].set_title(\"|K| - |T_1368_mod_9|\")\n",
    "\n",
    "axs[1,1].plot(X, distK_p)                                   # line graph of the the difference in cardinals between K' and T_{2,3,6,7}^{(9)}\n",
    "axs[1,1].set_title(\"|K'| - |T_2367_mod_9|\")\n",
    "\n",
    "axs[1,2].plot(X, distK_s)                                   # line graph of the the difference in cardinals between K'' and T_{4,3,6,5}^{(9)}\n",
    "axs[1,2].set_title(\"|K''| - |T_4365_mod_9|\")\n",
    "plt.tight_layout()"
   ]
  },
  {
   "cell_type": "markdown",
   "metadata": {},
   "source": [
    "# 2. Newton Fractal <a id=\"NewFrac\"></a>"
   ]
  },
  {
   "cell_type": "markdown",
   "metadata": {},
   "source": [
    "#### 2.1 <u>Definition</u> <a id=\"NewFracDef\"></a>\n",
    "\n",
    "The Newton fractal is a boundary set in the complex plane which is characterized by Newton's method applied to a fixed polynomial $p(Z) ∈ ℂ[Z]$ or transcendental function. It is the Julia set of the meromorphic function $z ↦ z − \\frac{p(z)}{p′(z)}$\n",
    " which is given by Newton's method. When there are no attractive cycles (of order greater than 1), it divides the complex plane into regions $G_k$, each of which is associated with a root $ζ_k$ of the polynomial, $k = 1, …, deg(p)$. In this way the Newton fractal is similar to the Mandelbrot set, and like other fractals it exhibits an intricate appearance arising from a simple description. It is relevant to numerical analysis because it shows that (outside the region of quadratic convergence) the Newton method can be very sensitive to its choice of start point.<br>\n",
    " ***- Wikipedia***"
   ]
  },
  {
   "cell_type": "markdown",
   "metadata": {},
   "source": [
    "#### 2.2 <u>First implementation</u>  <a id=\"NewFrac1\"></a>\n",
    "\n",
    "The code below show one implementation of the Newton method in Python for the fixed polynomial $p(z) = z^3-1$.<br>\n",
    "It uses the sequence $z_{n+1} = z_n - \\frac{p(z)}{p'(z)}$ to find the regions attached to each roots<br>\n",
    "the image obtained is as follow :<br> <br>\n",
    "![Julia Fractal](./ressources/Fractal.png)"
   ]
  },
  {
   "cell_type": "code",
   "execution_count": null,
   "metadata": {},
   "outputs": [],
   "source": [
    "import PIL.Image\n",
    "import numpy as np\n",
    "\n",
    "maxIteration = 5000\n",
    "tolerance = 0.1\n",
    "width = 3500\n",
    "height = 2000\n",
    "\n",
    "def f(z): # z^3-1\n",
    "    return np.power(z,3) - 1\n",
    "\n",
    "def fp(z): # 3*z^2\n",
    "    return 3*np.power(z,2)\n",
    "\n",
    "roots = [ # roots of the equation f(z) = 0\n",
    "    1,\n",
    "    -.5+(1j*np.sqrt(3)/2),\n",
    "    -.5-(1j*np.sqrt(3)/2),\n",
    "]\n",
    "\n",
    "image = PIL.Image.new(\"RGB\", (width,height))\n",
    "\n",
    "colors = [\n",
    "    (255,0,0), # Red \n",
    "    (0,255,0), # Green\n",
    "    (0,0,255)  # Blue\n",
    "]\n",
    "\n",
    "def calcColor(z):\n",
    "    for _ in range(maxIteration):\n",
    "            z -= f(z)/fp(z) # calculating z_n+1\n",
    "            for i in range(len(roots)):\n",
    "                diff = z - roots[i]\n",
    "                if(np.abs(diff) < tolerance): \n",
    "                    # if the distance between z and a one of the roots is less than the tolerance value\n",
    "                    # then we return a color value\n",
    "                    return colors[i]\n",
    "    return (0,0,0)\n",
    "\n",
    "for x in range(width):\n",
    "    for y in range(height):\n",
    "        # calculate the point on the complex plane for each pixel\n",
    "        # the space span is [-2.5, 1] X [-1,1]\n",
    "        z = 3.5*x/width - 2 + 1j*(2*y/height -1)\n",
    "        color = calcColor(z)\n",
    "        image.putpixel((x,y), color)\n",
    "\n",
    "\n",
    "image.save(\"Fractal.png\", format=\"png\")"
   ]
  },
  {
   "cell_type": "markdown",
   "metadata": {},
   "source": [
    "#### 2.3 <u>Another implementation</u> <a id=\"NewFrac2\"></a>\n",
    "\n",
    "Another modelisation can be obtained through the use of GLSL shader language. <br>\n",
    "Here is some code usable on browser on [the book of shaders](http://editor.thebookofshaders.com/) website. <br>\n",
    "Please find attached in resources a file.frag importable on the aforementioned website containing the following code. <br>\n",
    "\n",
    "```GLSL\n",
    "// Author: Guennec Kilian\n",
    "// Title: Visualisation of f(z) = z^3-1 via Newton fractal\n",
    "\n",
    "#ifdef GL_ES\n",
    "precision mediump float;\n",
    "#endif\n",
    "\n",
    "// complex operators\n",
    "#define cproduct(a, b) vec2(a.x*b.x-a.y*b.y, a.x*b.y+a.y*b.x)\n",
    "#define cdivide(a, b) vec2(((a.x*b.x+a.y*b.y)/(b.x*b.x+b.y*b.y)),((a.y*b.x-a.x*b.y)/(b.x*b.x+b.y*b.y)))\n",
    "\n",
    "// constantes (modifiable to change the rendering)\n",
    "#define tolerance 0.5 // value between 0 and 1\n",
    "#define maxIter 10000\n",
    "#define invertSpeed 15. // float (put a . at the end for it to work)\n",
    "\n",
    "uniform vec2 u_resolution;\n",
    "uniform float u_time;\n",
    "\n",
    "vec2 f(vec2 z){ // z^3-1\n",
    "    return cproduct(z, cproduct(z,z)) - vec2(1,0);\n",
    "}\n",
    "\n",
    "vec2 fp(vec2 z){ // 3*z^2\n",
    "    return 3.*cproduct(z,z);\n",
    "}\n",
    "\n",
    "\n",
    "void main() {\n",
    "    \n",
    "    vec2 z = gl_FragCoord.xy/u_resolution.xy; // get one pixel coordinate of the image\n",
    "\t\n",
    "    // modify space from [0,1] X [0,1] to [-2.5, 1] X [-1, 1]\n",
    "    z.x = 3.5*z.x - 2.5;\n",
    "    z.y = 2.*z.y - 1.;\n",
    "    \n",
    "    // time function for the animation\n",
    "    float fracu = fract(u_time/invertSpeed)*4.-2.;\n",
    "    float c = fracu*sign(fracu)-1.;\n",
    "    \n",
    "    // colors vectors\n",
    "    vec3 red = vec3(1.,0.,0.);\n",
    "    vec3 green = vec3(0.,1.,0.);\n",
    "    vec3 blue = vec3(0.,0.,1.);\n",
    "    \n",
    "    // roots of the equation f(z) = 0\n",
    "    vec2 root1 = vec2(1.,0.);\n",
    "    vec2 root2 = vec2(-0.5,-sqrt(3.)/2.);\n",
    "    vec2 root3 = vec2(-0.5,sqrt(3.)/2.);\n",
    "    \n",
    "    for(int i=0;i<maxIter;i++){\n",
    "    \n",
    "        // calculate z_n+1 from z_n\n",
    "        // comment/uncomment the expression of z_n+1 you want to try\n",
    "        //\n",
    "        // still image\n",
    "        z -= cdivide(f(z),fp(z));\n",
    "        //\n",
    "        // movement along the reals\n",
    "    \t//z -= vec2(c,0.)+cdivide(f(z),fp(z));\n",
    "        //\n",
    "        // movement along the imaginaries\n",
    "    \t//z -= vec2(0., c)+cdivide(f(z),fp(z));\n",
    "        //\n",
    "        // variant of c for the next movement best used with large tolerances\n",
    "        //vec2 c = 0.5*vec2(cos(u_time/2.), sin(u_time/2.));\n",
    "        // movement along the reals and the imaginaries\n",
    "    \t//z -= c+cdivide(f(z),fp(z));\n",
    "        \n",
    "        // difference between z_n+1 and the roots\n",
    "        vec2 diff1 = z-root1;\n",
    "        vec2 diff2 = z-root2;\n",
    "        vec2 diff3 = z-root3;\n",
    "        \n",
    "        // for each color, (red, green, blue) test if |diffx| < tolerance. Black is the default color for the abscence of informations\n",
    "    \tvec3 color = (1.-step(pow(tolerance,2.), pow(diff1.x,2.)+pow(diff1.y,2.))) * red + (1.-step(pow(tolerance,2.), pow(diff2.x,2.)+pow(diff2.y,2.))) * green + (1.-step(pow(tolerance,2.), pow(diff3.x,2.)+pow(diff3.y,2.))) * blue;\n",
    "        \n",
    "        gl_FragColor = vec4(color,1.0);\n",
    "    }\n",
    "    \n",
    "}\n",
    "```"
   ]
  },
  {
   "cell_type": "markdown",
   "metadata": {},
   "source": [
    "##### 2.3.1 <u>Explanation of the color calculation</u> <a id=\"NewFracExp\"></a>\n",
    "\n",
    "In the GLSL code, the color calculation is made pixel by pixel (same as the Python code). <br>\n",
    "But contrarily to the Python code, for better performances, we do not want to have conditional branches in the code, as such, the conditions are replaced by mathematical functions. <br><br>\n",
    "\n",
    "The `step(edge, x)` function work as follow : <br>\n",
    " - If $x < edge$ then return $0$\n",
    " - Else return $1$\n",
    "<br><br>\n",
    "As such, for each color, we compare the distance squared between $z_n$ and each roots with the tolerance squared (for optimization purpose) through the `step(edge,x)` function.\n",
    "since step return 0 or 1, we can then multiply the color vector to it to obtain each color region."
   ]
  }
 ],
 "metadata": {
  "interpreter": {
   "hash": "dea9cc21340c7e0611c8f10faba91c13a6183e568c629cdeba9d71619a92ddc4"
  },
  "kernelspec": {
   "display_name": "Python 3.9.2 64-bit",
   "language": "python",
   "name": "python3"
  },
  "language_info": {
   "codemirror_mode": {
    "name": "ipython",
    "version": 3
   },
   "file_extension": ".py",
   "mimetype": "text/x-python",
   "name": "python",
   "nbconvert_exporter": "python",
   "pygments_lexer": "ipython3",
   "version": "3.9.2"
  },
  "orig_nbformat": 4
 },
 "nbformat": 4,
 "nbformat_minor": 2
}
